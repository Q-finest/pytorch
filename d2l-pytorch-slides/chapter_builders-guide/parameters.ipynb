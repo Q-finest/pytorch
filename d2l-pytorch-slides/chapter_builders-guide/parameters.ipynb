{
 "cells": [
  {
   "cell_type": "markdown",
   "id": "14c3f942",
   "metadata": {
    "slideshow": {
     "slide_type": "-"
    }
   },
   "source": [
    "# Parameter Management\n",
    "\n"
   ]
  },
  {
   "cell_type": "code",
   "execution_count": 1,
   "id": "49ad8630",
   "metadata": {
    "execution": {
     "iopub.execute_input": "2023-02-10T05:21:35.253215Z",
     "iopub.status.busy": "2023-02-10T05:21:35.252774Z",
     "iopub.status.idle": "2023-02-10T05:21:37.282430Z",
     "shell.execute_reply": "2023-02-10T05:21:37.277794Z"
    },
    "origin_pos": 3,
    "tab": [
     "pytorch"
    ]
   },
   "outputs": [],
   "source": [
    "import torch\n",
    "from torch import nn"
   ]
  },
  {
   "cell_type": "markdown",
   "id": "4584e196",
   "metadata": {
    "slideshow": {
     "slide_type": "-"
    }
   },
   "source": [
    "We start by focusing on an MLP with one hidden layer"
   ]
  },
  {
   "cell_type": "code",
   "execution_count": 2,
   "id": "81e2ba98",
   "metadata": {
    "execution": {
     "iopub.execute_input": "2023-02-10T05:21:37.288718Z",
     "iopub.status.busy": "2023-02-10T05:21:37.287628Z",
     "iopub.status.idle": "2023-02-10T05:21:37.312190Z",
     "shell.execute_reply": "2023-02-10T05:21:37.309301Z"
    },
    "origin_pos": 8,
    "tab": [
     "pytorch"
    ]
   },
   "outputs": [
    {
     "data": {
      "text/plain": [
       "torch.Size([2, 1])"
      ]
     },
     "execution_count": 2,
     "metadata": {},
     "output_type": "execute_result"
    }
   ],
   "source": [
    "net = nn.Sequential(nn.LazyLinear(8),\n",
    "                    nn.ReLU(),\n",
    "                    nn.LazyLinear(1))\n",
    "\n",
    "X = torch.rand(size=(2, 4))\n",
    "net(X).shape"
   ]
  },
  {
   "cell_type": "markdown",
   "id": "41fe9692",
   "metadata": {
    "slideshow": {
     "slide_type": "slide"
    }
   },
   "source": [
    "Parameter Access"
   ]
  },
  {
   "cell_type": "code",
   "execution_count": 3,
   "id": "097d676f",
   "metadata": {
    "execution": {
     "iopub.execute_input": "2023-02-10T05:21:37.317423Z",
     "iopub.status.busy": "2023-02-10T05:21:37.317029Z",
     "iopub.status.idle": "2023-02-10T05:21:37.335562Z",
     "shell.execute_reply": "2023-02-10T05:21:37.334232Z"
    },
    "origin_pos": 16,
    "tab": [
     "pytorch"
    ]
   },
   "outputs": [
    {
     "data": {
      "text/plain": [
       "OrderedDict([('weight',\n",
       "              tensor([[-0.2523,  0.2104,  0.2189, -0.0395, -0.0590,  0.3360, -0.0205, -0.1507]])),\n",
       "             ('bias', tensor([0.0694]))])"
      ]
     },
     "execution_count": 3,
     "metadata": {},
     "output_type": "execute_result"
    }
   ],
   "source": [
    "net[2].state_dict()"
   ]
  },
  {
   "cell_type": "markdown",
   "id": "6d71fa08",
   "metadata": {
    "slideshow": {
     "slide_type": "slide"
    }
   },
   "source": [
    "Targeted Parameters"
   ]
  },
  {
   "cell_type": "code",
   "execution_count": 4,
   "id": "ba9bafe4",
   "metadata": {
    "execution": {
     "iopub.execute_input": "2023-02-10T05:21:37.345240Z",
     "iopub.status.busy": "2023-02-10T05:21:37.344807Z",
     "iopub.status.idle": "2023-02-10T05:21:37.360652Z",
     "shell.execute_reply": "2023-02-10T05:21:37.359697Z"
    },
    "origin_pos": 21,
    "tab": [
     "pytorch"
    ]
   },
   "outputs": [
    {
     "data": {
      "text/plain": [
       "(torch.nn.parameter.Parameter, tensor([0.0694]))"
      ]
     },
     "execution_count": 4,
     "metadata": {},
     "output_type": "execute_result"
    }
   ],
   "source": [
    "type(net[2].bias), net[2].bias.data"
   ]
  },
  {
   "cell_type": "code",
   "execution_count": 5,
   "id": "d4a7c16a",
   "metadata": {
    "execution": {
     "iopub.execute_input": "2023-02-10T05:21:37.370058Z",
     "iopub.status.busy": "2023-02-10T05:21:37.369777Z",
     "iopub.status.idle": "2023-02-10T05:21:37.378567Z",
     "shell.execute_reply": "2023-02-10T05:21:37.377496Z"
    },
    "origin_pos": 27,
    "tab": [
     "pytorch"
    ]
   },
   "outputs": [
    {
     "data": {
      "text/plain": [
       "True"
      ]
     },
     "execution_count": 5,
     "metadata": {},
     "output_type": "execute_result"
    }
   ],
   "source": [
    "net[2].weight.grad == None"
   ]
  },
  {
   "cell_type": "markdown",
   "id": "190e20cd",
   "metadata": {
    "slideshow": {
     "slide_type": "slide"
    }
   },
   "source": [
    "All Parameters at Once"
   ]
  },
  {
   "cell_type": "code",
   "execution_count": 6,
   "id": "997cac22",
   "metadata": {
    "execution": {
     "iopub.execute_input": "2023-02-10T05:21:37.384784Z",
     "iopub.status.busy": "2023-02-10T05:21:37.383239Z",
     "iopub.status.idle": "2023-02-10T05:21:37.397734Z",
     "shell.execute_reply": "2023-02-10T05:21:37.396862Z"
    },
    "origin_pos": 30,
    "tab": [
     "pytorch"
    ]
   },
   "outputs": [
    {
     "data": {
      "text/plain": [
       "[('0.weight', torch.Size([8, 4])),\n",
       " ('0.bias', torch.Size([8])),\n",
       " ('2.weight', torch.Size([1, 8])),\n",
       " ('2.bias', torch.Size([1]))]"
      ]
     },
     "execution_count": 6,
     "metadata": {},
     "output_type": "execute_result"
    }
   ],
   "source": [
    "[(name, param.shape) for name, param in net.named_parameters()]"
   ]
  },
  {
   "cell_type": "markdown",
   "id": "d21a644e",
   "metadata": {
    "slideshow": {
     "slide_type": "slide"
    }
   },
   "source": [
    "Tied Parameters"
   ]
  },
  {
   "cell_type": "code",
   "execution_count": 7,
   "id": "3b352ab5",
   "metadata": {
    "execution": {
     "iopub.execute_input": "2023-02-10T05:21:37.406521Z",
     "iopub.status.busy": "2023-02-10T05:21:37.403557Z",
     "iopub.status.idle": "2023-02-10T05:21:37.420700Z",
     "shell.execute_reply": "2023-02-10T05:21:37.419767Z"
    },
    "origin_pos": 35,
    "tab": [
     "pytorch"
    ]
   },
   "outputs": [
    {
     "name": "stdout",
     "output_type": "stream",
     "text": [
      "tensor([True, True, True, True, True, True, True, True])\n",
      "tensor([True, True, True, True, True, True, True, True])\n"
     ]
    }
   ],
   "source": [
    "shared = nn.LazyLinear(8)\n",
    "net = nn.Sequential(nn.LazyLinear(8), nn.ReLU(),\n",
    "                    shared, nn.ReLU(),\n",
    "                    shared, nn.ReLU(),\n",
    "                    nn.LazyLinear(1))\n",
    "\n",
    "net(X)\n",
    "print(net[2].weight.data[0] == net[4].weight.data[0])\n",
    "net[2].weight.data[0, 0] = 100\n",
    "print(net[2].weight.data[0] == net[4].weight.data[0])"
   ]
  }
 ],
 "metadata": {
  "celltoolbar": "Slideshow",
  "language_info": {
   "name": "python"
  },
  "rise": {
   "autolaunch": true,
   "enable_chalkboard": true,
   "overlay": "<div class='my-top-right'><img height=80px src='http://d2l.ai/_static/logo-with-text.png'/></div><div class='my-top-left'></div>",
   "scroll": true
  }
 },
 "nbformat": 4,
 "nbformat_minor": 5
}