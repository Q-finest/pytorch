{
 "cells": [
  {
   "cell_type": "markdown",
   "id": "d65bdcfd",
   "metadata": {
    "slideshow": {
     "slide_type": "-"
    }
   },
   "source": [
    "# Custom Layers\n",
    "\n"
   ]
  },
  {
   "cell_type": "code",
   "execution_count": 1,
   "id": "d4ab4931",
   "metadata": {
    "execution": {
     "iopub.execute_input": "2023-02-10T04:36:10.224808Z",
     "iopub.status.busy": "2023-02-10T04:36:10.224515Z",
     "iopub.status.idle": "2023-02-10T04:36:13.302190Z",
     "shell.execute_reply": "2023-02-10T04:36:13.299002Z"
    },
    "origin_pos": 3,
    "tab": [
     "pytorch"
    ]
   },
   "outputs": [],
   "source": [
    "import torch\n",
    "from torch import nn\n",
    "from torch.nn import functional as F\n",
    "from d2l import torch as d2l"
   ]
  },
  {
   "cell_type": "markdown",
   "id": "2fdc168a",
   "metadata": {
    "slideshow": {
     "slide_type": "-"
    }
   },
   "source": [
    "Layers without Parameters"
   ]
  },
  {
   "cell_type": "code",
   "execution_count": 3,
   "id": "6b1880d1",
   "metadata": {
    "execution": {
     "iopub.execute_input": "2023-02-10T04:36:13.324173Z",
     "iopub.status.busy": "2023-02-10T04:36:13.323047Z",
     "iopub.status.idle": "2023-02-10T04:36:13.359712Z",
     "shell.execute_reply": "2023-02-10T04:36:13.358859Z"
    },
    "origin_pos": 12,
    "tab": [
     "pytorch"
    ]
   },
   "outputs": [
    {
     "data": {
      "text/plain": [
       "tensor([-2., -1.,  0.,  1.,  2.])"
      ]
     },
     "execution_count": 3,
     "metadata": {},
     "output_type": "execute_result"
    }
   ],
   "source": [
    "class CenteredLayer(nn.Module):\n",
    "    def __init__(self):\n",
    "        super().__init__()\n",
    "\n",
    "    def forward(self, X):\n",
    "        return X - X.mean()\n",
    "\n",
    "layer = CenteredLayer()\n",
    "layer(torch.tensor([1.0, 2, 3, 4, 5]))"
   ]
  },
  {
   "cell_type": "markdown",
   "id": "95756828",
   "metadata": {
    "slideshow": {
     "slide_type": "slide"
    }
   },
   "source": [
    "Incorporate our layer as a component\n",
    "in constructing more complex models"
   ]
  },
  {
   "cell_type": "code",
   "execution_count": 5,
   "id": "a84fe9dd",
   "metadata": {
    "execution": {
     "iopub.execute_input": "2023-02-10T04:36:13.391206Z",
     "iopub.status.busy": "2023-02-10T04:36:13.389826Z",
     "iopub.status.idle": "2023-02-10T04:36:13.403839Z",
     "shell.execute_reply": "2023-02-10T04:36:13.401188Z"
    },
    "origin_pos": 20,
    "tab": [
     "pytorch"
    ]
   },
   "outputs": [
    {
     "data": {
      "text/plain": [
       "tensor(0., grad_fn=<MeanBackward0>)"
      ]
     },
     "execution_count": 5,
     "metadata": {},
     "output_type": "execute_result"
    }
   ],
   "source": [
    "net = nn.Sequential(nn.LazyLinear(128), CenteredLayer())\n",
    "\n",
    "Y = net(torch.rand(4, 8))\n",
    "Y.mean()"
   ]
  },
  {
   "cell_type": "markdown",
   "id": "66e947c5",
   "metadata": {
    "slideshow": {
     "slide_type": "slide"
    }
   },
   "source": [
    "Layers with Parameters"
   ]
  },
  {
   "cell_type": "code",
   "execution_count": 7,
   "id": "5f27458f",
   "metadata": {
    "execution": {
     "iopub.execute_input": "2023-02-10T04:36:13.427151Z",
     "iopub.status.busy": "2023-02-10T04:36:13.425883Z",
     "iopub.status.idle": "2023-02-10T04:36:13.436271Z",
     "shell.execute_reply": "2023-02-10T04:36:13.435422Z"
    },
    "origin_pos": 31,
    "tab": [
     "pytorch"
    ]
   },
   "outputs": [
    {
     "data": {
      "text/plain": [
       "Parameter containing:\n",
       "tensor([[-1.2894e+00,  6.5869e-01, -1.3933e+00],\n",
       "        [ 7.2590e-01,  7.1593e-01,  1.8115e-03],\n",
       "        [-1.5900e+00,  4.1654e-01, -1.3358e+00],\n",
       "        [ 2.2732e-02, -2.1329e+00,  1.8811e+00],\n",
       "        [-1.0993e+00,  2.9763e-01, -1.4413e+00]], requires_grad=True)"
      ]
     },
     "execution_count": 7,
     "metadata": {},
     "output_type": "execute_result"
    }
   ],
   "source": [
    "class MyLinear(nn.Module):\n",
    "    def __init__(self, in_units, units):\n",
    "        super().__init__()\n",
    "        self.weight = nn.Parameter(torch.randn(in_units, units))\n",
    "        self.bias = nn.Parameter(torch.randn(units,))\n",
    "\n",
    "    def forward(self, X):\n",
    "        linear = torch.matmul(X, self.weight.data) + self.bias.data\n",
    "        return F.relu(linear)\n",
    "\n",
    "linear = MyLinear(5, 3)\n",
    "linear.weight"
   ]
  },
  {
   "cell_type": "markdown",
   "id": "977b8941",
   "metadata": {
    "slideshow": {
     "slide_type": "slide"
    }
   },
   "source": [
    "Directly carry out forward propagation calculations using custom layers"
   ]
  },
  {
   "cell_type": "code",
   "execution_count": 8,
   "id": "556ef632",
   "metadata": {
    "execution": {
     "iopub.execute_input": "2023-02-10T04:36:13.441810Z",
     "iopub.status.busy": "2023-02-10T04:36:13.440223Z",
     "iopub.status.idle": "2023-02-10T04:36:13.448345Z",
     "shell.execute_reply": "2023-02-10T04:36:13.447507Z"
    },
    "origin_pos": 36,
    "tab": [
     "pytorch"
    ]
   },
   "outputs": [
    {
     "data": {
      "text/plain": [
       "tensor([[0.0000, 1.7772, 0.0000],\n",
       "        [0.0000, 1.0303, 0.0000]])"
      ]
     },
     "execution_count": 8,
     "metadata": {},
     "output_type": "execute_result"
    }
   ],
   "source": [
    "linear(torch.rand(2, 5))"
   ]
  },
  {
   "cell_type": "markdown",
   "id": "8d221d66",
   "metadata": {
    "slideshow": {
     "slide_type": "-"
    }
   },
   "source": [
    "Construct models using custom layers"
   ]
  },
  {
   "cell_type": "code",
   "execution_count": 9,
   "id": "067b63ba",
   "metadata": {
    "execution": {
     "iopub.execute_input": "2023-02-10T04:36:13.453905Z",
     "iopub.status.busy": "2023-02-10T04:36:13.453521Z",
     "iopub.status.idle": "2023-02-10T04:36:13.473649Z",
     "shell.execute_reply": "2023-02-10T04:36:13.467570Z"
    },
    "origin_pos": 41,
    "tab": [
     "pytorch"
    ]
   },
   "outputs": [
    {
     "data": {
      "text/plain": [
       "tensor([[0.],\n",
       "        [0.]])"
      ]
     },
     "execution_count": 9,
     "metadata": {},
     "output_type": "execute_result"
    }
   ],
   "source": [
    "net = nn.Sequential(MyLinear(64, 8), MyLinear(8, 1))\n",
    "net(torch.rand(2, 64))"
   ]
  }
 ],
 "metadata": {
  "celltoolbar": "Slideshow",
  "language_info": {
   "name": "python"
  },
  "rise": {
   "autolaunch": true,
   "enable_chalkboard": true,
   "overlay": "<div class='my-top-right'><img height=80px src='http://d2l.ai/_static/logo-with-text.png'/></div><div class='my-top-left'></div>",
   "scroll": true
  }
 },
 "nbformat": 4,
 "nbformat_minor": 5
}