{
 "cells": [
  {
   "cell_type": "markdown",
   "id": "f3965657",
   "metadata": {
    "slideshow": {
     "slide_type": "-"
    }
   },
   "source": [
    "# File I/O\n",
    "\n"
   ]
  },
  {
   "cell_type": "code",
   "execution_count": 1,
   "id": "8212be1e",
   "metadata": {
    "execution": {
     "iopub.execute_input": "2023-02-10T05:20:29.909632Z",
     "iopub.status.busy": "2023-02-10T05:20:29.909326Z",
     "iopub.status.idle": "2023-02-10T05:20:31.693144Z",
     "shell.execute_reply": "2023-02-10T05:20:31.686997Z"
    },
    "origin_pos": 3,
    "tab": [
     "pytorch"
    ]
   },
   "outputs": [],
   "source": [
    "import torch\n",
    "from torch import nn\n",
    "from torch.nn import functional as F"
   ]
  },
  {
   "cell_type": "markdown",
   "id": "e22945fb",
   "metadata": {
    "slideshow": {
     "slide_type": "-"
    }
   },
   "source": [
    "Loading and Saving Tensors"
   ]
  },
  {
   "cell_type": "code",
   "execution_count": 3,
   "id": "3dc49fcf",
   "metadata": {
    "execution": {
     "iopub.execute_input": "2023-02-10T05:20:31.719062Z",
     "iopub.status.busy": "2023-02-10T05:20:31.717558Z",
     "iopub.status.idle": "2023-02-10T05:20:31.741752Z",
     "shell.execute_reply": "2023-02-10T05:20:31.740553Z"
    },
    "origin_pos": 13,
    "tab": [
     "pytorch"
    ]
   },
   "outputs": [
    {
     "data": {
      "text/plain": [
       "tensor([0, 1, 2, 3])"
      ]
     },
     "execution_count": 3,
     "metadata": {},
     "output_type": "execute_result"
    }
   ],
   "source": [
    "x = torch.arange(4)\n",
    "torch.save(x, 'x-file')\n",
    "\n",
    "x2 = torch.load('x-file')\n",
    "x2"
   ]
  },
  {
   "cell_type": "markdown",
   "id": "e6a3d283",
   "metadata": {
    "slideshow": {
     "slide_type": "slide"
    }
   },
   "source": [
    "Store a list of tensors and read them back into memory"
   ]
  },
  {
   "cell_type": "code",
   "execution_count": 4,
   "id": "3cfb7c30",
   "metadata": {
    "execution": {
     "iopub.execute_input": "2023-02-10T05:20:31.746742Z",
     "iopub.status.busy": "2023-02-10T05:20:31.746235Z",
     "iopub.status.idle": "2023-02-10T05:20:31.761561Z",
     "shell.execute_reply": "2023-02-10T05:20:31.759885Z"
    },
    "origin_pos": 18,
    "tab": [
     "pytorch"
    ]
   },
   "outputs": [
    {
     "data": {
      "text/plain": [
       "(tensor([0, 1, 2, 3]), tensor([0., 0., 0., 0.]))"
      ]
     },
     "execution_count": 4,
     "metadata": {},
     "output_type": "execute_result"
    }
   ],
   "source": [
    "y = torch.zeros(4)\n",
    "torch.save([x, y],'x-files')\n",
    "x2, y2 = torch.load('x-files')\n",
    "(x2, y2)"
   ]
  },
  {
   "cell_type": "markdown",
   "id": "8a949bd6",
   "metadata": {
    "slideshow": {
     "slide_type": "slide"
    }
   },
   "source": [
    "Write and read a dictionary that maps\n",
    "from strings to tensors"
   ]
  },
  {
   "cell_type": "code",
   "execution_count": 5,
   "id": "619e97a0",
   "metadata": {
    "execution": {
     "iopub.execute_input": "2023-02-10T05:20:31.765880Z",
     "iopub.status.busy": "2023-02-10T05:20:31.765462Z",
     "iopub.status.idle": "2023-02-10T05:20:31.787032Z",
     "shell.execute_reply": "2023-02-10T05:20:31.785774Z"
    },
    "origin_pos": 23,
    "tab": [
     "pytorch"
    ]
   },
   "outputs": [
    {
     "data": {
      "text/plain": [
       "{'x': tensor([0, 1, 2, 3]), 'y': tensor([0., 0., 0., 0.])}"
      ]
     },
     "execution_count": 5,
     "metadata": {},
     "output_type": "execute_result"
    }
   ],
   "source": [
    "mydict = {'x': x, 'y': y}\n",
    "torch.save(mydict, 'mydict')\n",
    "mydict2 = torch.load('mydict')\n",
    "mydict2"
   ]
  },
  {
   "cell_type": "markdown",
   "id": "ed5e4a13",
   "metadata": {
    "slideshow": {
     "slide_type": "slide"
    }
   },
   "source": [
    "Loading and Saving Model Parameters\n",
    "Let's start with our familiar MLP"
   ]
  },
  {
   "cell_type": "code",
   "execution_count": 6,
   "id": "903f0e92",
   "metadata": {
    "execution": {
     "iopub.execute_input": "2023-02-10T05:20:31.792534Z",
     "iopub.status.busy": "2023-02-10T05:20:31.792006Z",
     "iopub.status.idle": "2023-02-10T05:20:31.830441Z",
     "shell.execute_reply": "2023-02-10T05:20:31.825701Z"
    },
    "origin_pos": 28,
    "tab": [
     "pytorch"
    ]
   },
   "outputs": [],
   "source": [
    "class MLP(nn.Module):\n",
    "    def __init__(self):\n",
    "        super().__init__()\n",
    "        self.hidden = nn.LazyLinear(256)\n",
    "        self.output = nn.LazyLinear(10)\n",
    "\n",
    "    def forward(self, x):\n",
    "        return self.output(F.relu(self.hidden(x)))\n",
    "\n",
    "net = MLP()\n",
    "X = torch.randn(size=(2, 20))\n",
    "Y = net(X)"
   ]
  },
  {
   "cell_type": "markdown",
   "id": "a67b2db3",
   "metadata": {
    "slideshow": {
     "slide_type": "slide"
    }
   },
   "source": [
    "Store the parameters of the model as a file"
   ]
  },
  {
   "cell_type": "code",
   "execution_count": 7,
   "id": "8500ae41",
   "metadata": {
    "execution": {
     "iopub.execute_input": "2023-02-10T05:20:31.835738Z",
     "iopub.status.busy": "2023-02-10T05:20:31.833870Z",
     "iopub.status.idle": "2023-02-10T05:20:31.846860Z",
     "shell.execute_reply": "2023-02-10T05:20:31.845488Z"
    },
    "origin_pos": 33,
    "tab": [
     "pytorch"
    ]
   },
   "outputs": [],
   "source": [
    "torch.save(net.state_dict(), 'mlp.params')"
   ]
  },
  {
   "cell_type": "markdown",
   "id": "349ec5cd",
   "metadata": {
    "slideshow": {
     "slide_type": "slide"
    }
   },
   "source": [
    "Read the parameters stored in the file directly"
   ]
  },
  {
   "cell_type": "code",
   "execution_count": 8,
   "id": "a8035512",
   "metadata": {
    "execution": {
     "iopub.execute_input": "2023-02-10T05:20:31.855840Z",
     "iopub.status.busy": "2023-02-10T05:20:31.853177Z",
     "iopub.status.idle": "2023-02-10T05:20:31.866070Z",
     "shell.execute_reply": "2023-02-10T05:20:31.865223Z"
    },
    "origin_pos": 38,
    "tab": [
     "pytorch"
    ]
   },
   "outputs": [
    {
     "data": {
      "text/plain": [
       "MLP(\n",
       "  (hidden): LazyLinear(in_features=0, out_features=256, bias=True)\n",
       "  (output): LazyLinear(in_features=0, out_features=10, bias=True)\n",
       ")"
      ]
     },
     "execution_count": 8,
     "metadata": {},
     "output_type": "execute_result"
    }
   ],
   "source": [
    "clone = MLP()\n",
    "clone.load_state_dict(torch.load('mlp.params'))\n",
    "clone.eval()"
   ]
  },
  {
   "cell_type": "code",
   "execution_count": 9,
   "id": "c592d782",
   "metadata": {
    "execution": {
     "iopub.execute_input": "2023-02-10T05:20:31.869526Z",
     "iopub.status.busy": "2023-02-10T05:20:31.869148Z",
     "iopub.status.idle": "2023-02-10T05:20:31.893730Z",
     "shell.execute_reply": "2023-02-10T05:20:31.889168Z"
    },
    "origin_pos": 42,
    "tab": [
     "pytorch"
    ]
   },
   "outputs": [
    {
     "data": {
      "text/plain": [
       "tensor([[True, True, True, True, True, True, True, True, True, True],\n",
       "        [True, True, True, True, True, True, True, True, True, True]])"
      ]
     },
     "execution_count": 9,
     "metadata": {},
     "output_type": "execute_result"
    }
   ],
   "source": [
    "Y_clone = clone(X)\n",
    "Y_clone == Y"
   ]
  }
 ],
 "metadata": {
  "celltoolbar": "Slideshow",
  "language_info": {
   "name": "python"
  },
  "rise": {
   "autolaunch": true,
   "enable_chalkboard": true,
   "overlay": "<div class='my-top-right'><img height=80px src='http://d2l.ai/_static/logo-with-text.png'/></div><div class='my-top-left'></div>",
   "scroll": true
  }
 },
 "nbformat": 4,
 "nbformat_minor": 5
}