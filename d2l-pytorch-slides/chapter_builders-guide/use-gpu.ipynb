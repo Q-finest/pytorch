{
 "cells": [
  {
   "cell_type": "markdown",
   "id": "def8e885",
   "metadata": {
    "slideshow": {
     "slide_type": "-"
    }
   },
   "source": [
    "# GPUs\n",
    "\n",
    "View the graphics card information"
   ]
  },
  {
   "cell_type": "code",
   "execution_count": 1,
   "id": "491be4c8",
   "metadata": {
    "execution": {
     "iopub.execute_input": "2023-02-10T06:11:12.623580Z",
     "iopub.status.busy": "2023-02-10T06:11:12.623177Z",
     "iopub.status.idle": "2023-02-10T06:11:13.977422Z",
     "shell.execute_reply": "2023-02-10T06:11:13.976372Z"
    },
    "origin_pos": 2,
    "tab": [
     "pytorch"
    ]
   },
   "outputs": [
    {
     "name": "stdout",
     "output_type": "stream",
     "text": [
      "Fri Feb 10 06:11:13 2023       \r\n",
      "+-----------------------------------------------------------------------------+\r\n",
      "| NVIDIA-SMI 460.106.00   Driver Version: 460.106.00   CUDA Version: 11.2     |\r\n",
      "|-------------------------------+----------------------+----------------------+\r\n",
      "| GPU  Name        Persistence-M| Bus-Id        Disp.A | Volatile Uncorr. ECC |\r\n",
      "| Fan  Temp  Perf  Pwr:Usage/Cap|         Memory-Usage | GPU-Util  Compute M. |\r\n",
      "|                               |                      |               MIG M. |\r\n",
      "|===============================+======================+======================|\r\n",
      "|   0  Tesla V100-SXM2...  Off  | 00000000:00:17.0 Off |                    0 |\r\n",
      "| N/A   35C    P0    76W / 300W |   1534MiB / 16160MiB |     53%      Default |\r\n",
      "|                               |                      |                  N/A |\r\n",
      "+-------------------------------+----------------------+----------------------+\r\n"
     ]
    },
    {
     "name": "stdout",
     "output_type": "stream",
     "text": [
      "|   1  Tesla V100-SXM2...  Off  | 00000000:00:18.0 Off |                    0 |\r\n",
      "| N/A   34C    P0    42W / 300W |      0MiB / 16160MiB |      0%      Default |\r\n",
      "|                               |                      |                  N/A |\r\n",
      "+-------------------------------+----------------------+----------------------+\r\n",
      "|   2  Tesla V100-SXM2...  Off  | 00000000:00:19.0 Off |                    0 |\r\n",
      "| N/A   36C    P0    80W / 300W |   3308MiB / 16160MiB |      0%      Default |\r\n",
      "|                               |                      |                  N/A |\r\n",
      "+-------------------------------+----------------------+----------------------+\r\n"
     ]
    },
    {
     "name": "stdout",
     "output_type": "stream",
     "text": [
      "|   3  Tesla V100-SXM2...  Off  | 00000000:00:1A.0 Off |                    0 |\r\n",
      "| N/A   35C    P0   200W / 300W |   3396MiB / 16160MiB |      4%      Default |\r\n",
      "|                               |                      |                  N/A |\r\n",
      "+-------------------------------+----------------------+----------------------+\r\n",
      "|   4  Tesla V100-SXM2...  Off  | 00000000:00:1B.0 Off |                    0 |\r\n",
      "| N/A   32C    P0    56W / 300W |   1126MiB / 16160MiB |      0%      Default |\r\n",
      "|                               |                      |                  N/A |\r\n",
      "+-------------------------------+----------------------+----------------------+\r\n"
     ]
    },
    {
     "name": "stdout",
     "output_type": "stream",
     "text": [
      "|   5  Tesla V100-SXM2...  Off  | 00000000:00:1C.0 Off |                    0 |\r\n",
      "| N/A   40C    P0    84W / 300W |   1522MiB / 16160MiB |     47%      Default |\r\n",
      "|                               |                      |                  N/A |\r\n",
      "+-------------------------------+----------------------+----------------------+\r\n",
      "|   6  Tesla V100-SXM2...  Off  | 00000000:00:1D.0 Off |                    0 |\r\n",
      "| N/A   34C    P0    57W / 300W |    768MiB / 16160MiB |      3%      Default |\r\n",
      "|                               |                      |                  N/A |\r\n",
      "+-------------------------------+----------------------+----------------------+\r\n",
      "|   7  Tesla V100-SXM2...  Off  | 00000000:00:1E.0 Off |                    0 |\r\n",
      "| N/A   32C    P0    41W / 300W |      0MiB / 16160MiB |      0%      Default |\r\n",
      "|                               |                      |                  N/A |\r\n",
      "+-------------------------------+----------------------+----------------------+\r\n",
      "                                                                               \r\n",
      "+-----------------------------------------------------------------------------+\r\n",
      "| Processes:                                                                  |\r\n",
      "|  GPU   GI   CI        PID   Type   Process name                  GPU Memory |\r\n",
      "|        ID   ID                                                   Usage      |\r\n",
      "|=============================================================================|\r\n",
      "|    0   N/A  N/A     18049      C   ...l-en-release-1/bin/python     1531MiB |\r\n",
      "|    2   N/A  N/A     41102      C   ...l-en-release-1/bin/python     3305MiB |\r\n",
      "|    3   N/A  N/A     41102      C   ...l-en-release-1/bin/python     3393MiB |\r\n",
      "|    4   N/A  N/A     44560      C   ...l-en-release-1/bin/python     1123MiB |\r\n",
      "|    5   N/A  N/A     18049      C   ...l-en-release-1/bin/python     1519MiB |\r\n",
      "|    6   N/A  N/A     44560      C   ...l-en-release-1/bin/python      771MiB |\r\n"
     ]
    },
    {
     "name": "stdout",
     "output_type": "stream",
     "text": [
      "+-----------------------------------------------------------------------------+\r\n"
     ]
    }
   ],
   "source": [
    "!nvidia-smi"
   ]
  },
  {
   "cell_type": "code",
   "execution_count": 2,
   "id": "2a8556ec",
   "metadata": {
    "execution": {
     "iopub.execute_input": "2023-02-10T06:11:13.982539Z",
     "iopub.status.busy": "2023-02-10T06:11:13.981944Z",
     "iopub.status.idle": "2023-02-10T06:11:16.854479Z",
     "shell.execute_reply": "2023-02-10T06:11:16.852447Z"
    },
    "origin_pos": 7,
    "tab": [
     "pytorch"
    ]
   },
   "outputs": [],
   "source": [
    "import torch\n",
    "from torch import nn\n",
    "from d2l import torch as d2l"
   ]
  },
  {
   "cell_type": "markdown",
   "id": "d31d18bc",
   "metadata": {
    "slideshow": {
     "slide_type": "slide"
    }
   },
   "source": [
    "Computing Devices"
   ]
  },
  {
   "cell_type": "code",
   "execution_count": 3,
   "id": "f7d361fa",
   "metadata": {
    "execution": {
     "iopub.execute_input": "2023-02-10T06:11:16.859148Z",
     "iopub.status.busy": "2023-02-10T06:11:16.858702Z",
     "iopub.status.idle": "2023-02-10T06:11:16.867817Z",
     "shell.execute_reply": "2023-02-10T06:11:16.867077Z"
    },
    "origin_pos": 13,
    "tab": [
     "pytorch"
    ]
   },
   "outputs": [
    {
     "data": {
      "text/plain": [
       "(device(type='cpu'),\n",
       " device(type='cuda', index=0),\n",
       " device(type='cuda', index=1))"
      ]
     },
     "execution_count": 3,
     "metadata": {},
     "output_type": "execute_result"
    }
   ],
   "source": [
    "def cpu():  \n",
    "    \"\"\"Get the CPU device.\"\"\"\n",
    "    return torch.device('cpu')\n",
    "\n",
    "def gpu(i=0):  \n",
    "    \"\"\"Get a GPU device.\"\"\"\n",
    "    return torch.device(f'cuda:{i}')\n",
    "\n",
    "cpu(), gpu(), gpu(1)"
   ]
  },
  {
   "cell_type": "markdown",
   "id": "f149ed37",
   "metadata": {
    "slideshow": {
     "slide_type": "-"
    }
   },
   "source": [
    "Query the number of available GPUs"
   ]
  },
  {
   "cell_type": "code",
   "execution_count": 4,
   "id": "c29ed2e9",
   "metadata": {
    "execution": {
     "iopub.execute_input": "2023-02-10T06:11:16.870755Z",
     "iopub.status.busy": "2023-02-10T06:11:16.870507Z",
     "iopub.status.idle": "2023-02-10T06:11:16.876211Z",
     "shell.execute_reply": "2023-02-10T06:11:16.875484Z"
    },
    "origin_pos": 16,
    "tab": [
     "pytorch"
    ]
   },
   "outputs": [
    {
     "data": {
      "text/plain": [
       "2"
      ]
     },
     "execution_count": 4,
     "metadata": {},
     "output_type": "execute_result"
    }
   ],
   "source": [
    "def num_gpus():  \n",
    "    \"\"\"Get the number of available GPUs.\"\"\"\n",
    "    return torch.cuda.device_count()\n",
    "\n",
    "num_gpus()"
   ]
  },
  {
   "cell_type": "markdown",
   "id": "3d2af058",
   "metadata": {
    "slideshow": {
     "slide_type": "slide"
    }
   },
   "source": [
    "Define two convenient functions that allow us\n",
    "to run code even if the requested GPUs do not exist"
   ]
  },
  {
   "cell_type": "code",
   "execution_count": 5,
   "id": "8b4d3266",
   "metadata": {
    "execution": {
     "iopub.execute_input": "2023-02-10T06:11:16.880202Z",
     "iopub.status.busy": "2023-02-10T06:11:16.879877Z",
     "iopub.status.idle": "2023-02-10T06:11:16.968706Z",
     "shell.execute_reply": "2023-02-10T06:11:16.967943Z"
    },
    "origin_pos": 19,
    "tab": [
     "pytorch"
    ]
   },
   "outputs": [
    {
     "data": {
      "text/plain": [
       "(device(type='cuda', index=0),\n",
       " device(type='cpu'),\n",
       " [device(type='cuda', index=0), device(type='cuda', index=1)])"
      ]
     },
     "execution_count": 5,
     "metadata": {},
     "output_type": "execute_result"
    }
   ],
   "source": [
    "def try_gpu(i=0):  \n",
    "    \"\"\"Return gpu(i) if exists, otherwise return cpu().\"\"\"\n",
    "    if num_gpus() >= i + 1:\n",
    "        return gpu(i)\n",
    "    return cpu()\n",
    "\n",
    "def try_all_gpus():  \n",
    "    \"\"\"Return all available GPUs, or [cpu(),] if no GPU exists.\"\"\"\n",
    "    return [gpu(i) for i in range(num_gpus())]\n",
    "\n",
    "try_gpu(), try_gpu(10), try_all_gpus()"
   ]
  },
  {
   "cell_type": "markdown",
   "id": "4a99920b",
   "metadata": {
    "slideshow": {
     "slide_type": "slide"
    }
   },
   "source": [
    "Query the device where the tensor is located"
   ]
  },
  {
   "cell_type": "code",
   "execution_count": 6,
   "id": "c4d98324",
   "metadata": {
    "execution": {
     "iopub.execute_input": "2023-02-10T06:11:16.973502Z",
     "iopub.status.busy": "2023-02-10T06:11:16.972190Z",
     "iopub.status.idle": "2023-02-10T06:11:16.983126Z",
     "shell.execute_reply": "2023-02-10T06:11:16.981672Z"
    },
    "origin_pos": 26,
    "tab": [
     "pytorch"
    ]
   },
   "outputs": [
    {
     "data": {
      "text/plain": [
       "device(type='cpu')"
      ]
     },
     "execution_count": 6,
     "metadata": {},
     "output_type": "execute_result"
    }
   ],
   "source": [
    "x = torch.tensor([1, 2, 3])\n",
    "x.device"
   ]
  },
  {
   "cell_type": "markdown",
   "id": "ee0d6340",
   "metadata": {
    "slideshow": {
     "slide_type": "slide"
    }
   },
   "source": [
    "Store a tensor on the GPU"
   ]
  },
  {
   "cell_type": "code",
   "execution_count": 7,
   "id": "c7a3dfeb",
   "metadata": {
    "execution": {
     "iopub.execute_input": "2023-02-10T06:11:16.987537Z",
     "iopub.status.busy": "2023-02-10T06:11:16.986744Z",
     "iopub.status.idle": "2023-02-10T06:11:20.971492Z",
     "shell.execute_reply": "2023-02-10T06:11:20.970403Z"
    },
    "origin_pos": 31,
    "tab": [
     "pytorch"
    ]
   },
   "outputs": [
    {
     "data": {
      "text/plain": [
       "tensor([[1., 1., 1.],\n",
       "        [1., 1., 1.]], device='cuda:0')"
      ]
     },
     "execution_count": 7,
     "metadata": {},
     "output_type": "execute_result"
    }
   ],
   "source": [
    "X = torch.ones(2, 3, device=try_gpu())\n",
    "X"
   ]
  },
  {
   "cell_type": "markdown",
   "id": "91eeb249",
   "metadata": {
    "slideshow": {
     "slide_type": "-"
    }
   },
   "source": [
    "Create a random tensor on the second GPU"
   ]
  },
  {
   "cell_type": "code",
   "execution_count": 8,
   "id": "e03996a9",
   "metadata": {
    "execution": {
     "iopub.execute_input": "2023-02-10T06:11:20.975019Z",
     "iopub.status.busy": "2023-02-10T06:11:20.974752Z",
     "iopub.status.idle": "2023-02-10T06:11:25.342107Z",
     "shell.execute_reply": "2023-02-10T06:11:25.340951Z"
    },
    "origin_pos": 36,
    "tab": [
     "pytorch"
    ]
   },
   "outputs": [
    {
     "data": {
      "text/plain": [
       "tensor([[0.7781, 0.1400, 0.4503],\n",
       "        [0.1745, 0.2343, 0.6356]], device='cuda:1')"
      ]
     },
     "execution_count": 8,
     "metadata": {},
     "output_type": "execute_result"
    }
   ],
   "source": [
    "Y = torch.rand(2, 3, device=try_gpu(1))\n",
    "Y"
   ]
  },
  {
   "cell_type": "markdown",
   "id": "5c10f3ef",
   "metadata": {
    "slideshow": {
     "slide_type": "slide"
    }
   },
   "source": [
    "If we want to compute `X + Y`,\n",
    "we need to decide where to perform this operation"
   ]
  },
  {
   "cell_type": "code",
   "execution_count": 9,
   "id": "9accbec5",
   "metadata": {
    "execution": {
     "iopub.execute_input": "2023-02-10T06:11:25.347275Z",
     "iopub.status.busy": "2023-02-10T06:11:25.346662Z",
     "iopub.status.idle": "2023-02-10T06:11:25.359335Z",
     "shell.execute_reply": "2023-02-10T06:11:25.358055Z"
    },
    "origin_pos": 41,
    "tab": [
     "pytorch"
    ]
   },
   "outputs": [
    {
     "name": "stdout",
     "output_type": "stream",
     "text": [
      "tensor([[1., 1., 1.],\n",
      "        [1., 1., 1.]], device='cuda:0')\n",
      "tensor([[1., 1., 1.],\n",
      "        [1., 1., 1.]], device='cuda:1')\n"
     ]
    }
   ],
   "source": [
    "Z = X.cuda(1)\n",
    "print(X)\n",
    "print(Z)"
   ]
  },
  {
   "cell_type": "markdown",
   "id": "36581725",
   "metadata": {
    "slideshow": {
     "slide_type": "slide"
    }
   },
   "source": [
    "The data is on the same GPU\n",
    "(both `Z` and `Y` are),\n",
    "we can add them up"
   ]
  },
  {
   "cell_type": "code",
   "execution_count": 10,
   "id": "01b0eeb8",
   "metadata": {
    "execution": {
     "iopub.execute_input": "2023-02-10T06:11:25.362997Z",
     "iopub.status.busy": "2023-02-10T06:11:25.362467Z",
     "iopub.status.idle": "2023-02-10T06:11:25.369421Z",
     "shell.execute_reply": "2023-02-10T06:11:25.368691Z"
    },
    "origin_pos": 45,
    "tab": [
     "pytorch"
    ]
   },
   "outputs": [
    {
     "data": {
      "text/plain": [
       "tensor([[1.7781, 1.1400, 1.4503],\n",
       "        [1.1745, 1.2343, 1.6356]], device='cuda:1')"
      ]
     },
     "execution_count": 10,
     "metadata": {},
     "output_type": "execute_result"
    }
   ],
   "source": [
    "Y + Z"
   ]
  },
  {
   "cell_type": "code",
   "execution_count": 11,
   "id": "fcb923c9",
   "metadata": {
    "execution": {
     "iopub.execute_input": "2023-02-10T06:11:25.373749Z",
     "iopub.status.busy": "2023-02-10T06:11:25.372374Z",
     "iopub.status.idle": "2023-02-10T06:11:25.379042Z",
     "shell.execute_reply": "2023-02-10T06:11:25.378082Z"
    },
    "origin_pos": 51,
    "tab": [
     "pytorch"
    ]
   },
   "outputs": [
    {
     "data": {
      "text/plain": [
       "True"
      ]
     },
     "execution_count": 11,
     "metadata": {},
     "output_type": "execute_result"
    }
   ],
   "source": [
    "Z.cuda(1) is Z"
   ]
  },
  {
   "cell_type": "markdown",
   "id": "8582e2f4",
   "metadata": {
    "slideshow": {
     "slide_type": "slide"
    }
   },
   "source": [
    "Neural Networks and GPUs"
   ]
  },
  {
   "cell_type": "code",
   "execution_count": 13,
   "id": "60735ce8",
   "metadata": {
    "execution": {
     "iopub.execute_input": "2023-02-10T06:11:25.394819Z",
     "iopub.status.busy": "2023-02-10T06:11:25.394228Z",
     "iopub.status.idle": "2023-02-10T06:11:25.724556Z",
     "shell.execute_reply": "2023-02-10T06:11:25.723639Z"
    },
    "origin_pos": 60,
    "tab": [
     "pytorch"
    ]
   },
   "outputs": [
    {
     "data": {
      "text/plain": [
       "tensor([[0.1746],\n",
       "        [0.1746]], device='cuda:0', grad_fn=<AddmmBackward0>)"
      ]
     },
     "execution_count": 13,
     "metadata": {},
     "output_type": "execute_result"
    }
   ],
   "source": [
    "net = nn.Sequential(nn.LazyLinear(1))\n",
    "net = net.to(device=try_gpu())\n",
    "\n",
    "net(X)"
   ]
  },
  {
   "cell_type": "markdown",
   "id": "5b887d6d",
   "metadata": {
    "slideshow": {
     "slide_type": "-"
    }
   },
   "source": [
    "Confirm that the model parameters are stored on the same GPU"
   ]
  },
  {
   "cell_type": "code",
   "execution_count": 14,
   "id": "58ff9b66",
   "metadata": {
    "execution": {
     "iopub.execute_input": "2023-02-10T06:11:25.727894Z",
     "iopub.status.busy": "2023-02-10T06:11:25.727622Z",
     "iopub.status.idle": "2023-02-10T06:11:25.735376Z",
     "shell.execute_reply": "2023-02-10T06:11:25.734562Z"
    },
    "origin_pos": 64,
    "tab": [
     "pytorch"
    ]
   },
   "outputs": [
    {
     "data": {
      "text/plain": [
       "device(type='cuda', index=0)"
      ]
     },
     "execution_count": 14,
     "metadata": {},
     "output_type": "execute_result"
    }
   ],
   "source": [
    "net[0].weight.data.device"
   ]
  },
  {
   "cell_type": "code",
   "execution_count": 15,
   "id": "45166355",
   "metadata": {
    "execution": {
     "iopub.execute_input": "2023-02-10T06:11:25.740664Z",
     "iopub.status.busy": "2023-02-10T06:11:25.738961Z",
     "iopub.status.idle": "2023-02-10T06:11:25.750655Z",
     "shell.execute_reply": "2023-02-10T06:11:25.747863Z"
    },
    "origin_pos": 69,
    "tab": [
     "pytorch"
    ]
   },
   "outputs": [],
   "source": [
    "@d2l.add_to_class(d2l.Trainer)  \n",
    "def __init__(self, max_epochs, num_gpus=0, gradient_clip_val=0):\n",
    "    self.save_hyperparameters()\n",
    "    self.gpus = [d2l.gpu(i) for i in range(min(num_gpus, d2l.num_gpus()))]\n",
    "\n",
    "@d2l.add_to_class(d2l.Trainer)  \n",
    "def prepare_batch(self, batch):\n",
    "    if self.gpus:\n",
    "        batch = [a.to(self.gpus[0]) for a in batch]\n",
    "    return batch\n",
    "\n",
    "@d2l.add_to_class(d2l.Trainer)  \n",
    "def prepare_model(self, model):\n",
    "    model.trainer = self\n",
    "    model.board.xlim = [0, self.max_epochs]\n",
    "    if self.gpus:\n",
    "        model.to(self.gpus[0])\n",
    "    self.model = model"
   ]
  }
 ],
 "metadata": {
  "celltoolbar": "Slideshow",
  "language_info": {
   "name": "python"
  },
  "rise": {
   "autolaunch": true,
   "enable_chalkboard": true,
   "overlay": "<div class='my-top-right'><img height=80px src='http://d2l.ai/_static/logo-with-text.png'/></div><div class='my-top-left'></div>",
   "scroll": true
  }
 },
 "nbformat": 4,
 "nbformat_minor": 5
}