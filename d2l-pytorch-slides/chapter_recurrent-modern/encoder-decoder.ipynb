{
 "cells": [
  {
   "cell_type": "markdown",
   "id": "971a3c42",
   "metadata": {
    "slideshow": {
     "slide_type": "-"
    }
   },
   "source": [
    "# The Encoder-Decoder Architecture\n",
    "\n"
   ]
  },
  {
   "cell_type": "code",
   "execution_count": 1,
   "id": "9667c33d",
   "metadata": {
    "execution": {
     "iopub.execute_input": "2023-02-10T05:33:50.673065Z",
     "iopub.status.busy": "2023-02-10T05:33:50.672749Z",
     "iopub.status.idle": "2023-02-10T05:33:53.933966Z",
     "shell.execute_reply": "2023-02-10T05:33:53.929938Z"
    },
    "origin_pos": 3,
    "tab": [
     "pytorch"
    ]
   },
   "outputs": [],
   "source": [
    "from torch import nn\n",
    "from d2l import torch as d2l"
   ]
  },
  {
   "cell_type": "markdown",
   "id": "d752763d",
   "metadata": {
    "slideshow": {
     "slide_type": "-"
    }
   },
   "source": [
    "Encoder"
   ]
  },
  {
   "cell_type": "code",
   "execution_count": 2,
   "id": "60f1cb0c",
   "metadata": {
    "execution": {
     "iopub.execute_input": "2023-02-10T05:33:53.944484Z",
     "iopub.status.busy": "2023-02-10T05:33:53.941648Z",
     "iopub.status.idle": "2023-02-10T05:33:53.960328Z",
     "shell.execute_reply": "2023-02-10T05:33:53.957436Z"
    },
    "origin_pos": 8,
    "tab": [
     "pytorch"
    ]
   },
   "outputs": [],
   "source": [
    "class Encoder(nn.Module):  \n",
    "    \"\"\"The base encoder interface for the encoder-decoder architecture.\"\"\"\n",
    "    def __init__(self):\n",
    "        super().__init__()\n",
    "\n",
    "    def forward(self, X, *args):\n",
    "        raise NotImplementedError"
   ]
  },
  {
   "cell_type": "markdown",
   "id": "e8265517",
   "metadata": {
    "slideshow": {
     "slide_type": "slide"
    }
   },
   "source": [
    "Decoder"
   ]
  },
  {
   "cell_type": "code",
   "execution_count": 3,
   "id": "b41f6031",
   "metadata": {
    "execution": {
     "iopub.execute_input": "2023-02-10T05:33:53.968602Z",
     "iopub.status.busy": "2023-02-10T05:33:53.968153Z",
     "iopub.status.idle": "2023-02-10T05:33:53.991691Z",
     "shell.execute_reply": "2023-02-10T05:33:53.988685Z"
    },
    "origin_pos": 13,
    "tab": [
     "pytorch"
    ]
   },
   "outputs": [],
   "source": [
    "class Decoder(nn.Module):  \n",
    "    \"\"\"The base decoder interface for the encoder-decoder architecture.\"\"\"\n",
    "    def __init__(self):\n",
    "        super().__init__()\n",
    "\n",
    "    def init_state(self, enc_all_outputs, *args):\n",
    "        raise NotImplementedError\n",
    "\n",
    "    def forward(self, X, state):\n",
    "        raise NotImplementedError"
   ]
  },
  {
   "cell_type": "markdown",
   "id": "babd2064",
   "metadata": {
    "slideshow": {
     "slide_type": "slide"
    }
   },
   "source": [
    "Putting the Encoder and Decoder Together"
   ]
  },
  {
   "cell_type": "code",
   "execution_count": 4,
   "id": "4c7c6c48",
   "metadata": {
    "execution": {
     "iopub.execute_input": "2023-02-10T05:33:53.999652Z",
     "iopub.status.busy": "2023-02-10T05:33:53.995132Z",
     "iopub.status.idle": "2023-02-10T05:33:54.017057Z",
     "shell.execute_reply": "2023-02-10T05:33:54.012340Z"
    },
    "origin_pos": 17,
    "tab": [
     "pytorch"
    ]
   },
   "outputs": [],
   "source": [
    "class EncoderDecoder(d2l.Classifier):  \n",
    "    \"\"\"The base class for the encoder-decoder architecture.\"\"\"\n",
    "    def __init__(self, encoder, decoder):\n",
    "        super().__init__()\n",
    "        self.encoder = encoder\n",
    "        self.decoder = decoder\n",
    "\n",
    "    def forward(self, enc_X, dec_X, *args):\n",
    "        enc_all_outputs = self.encoder(enc_X, *args)\n",
    "        dec_state = self.decoder.init_state(enc_all_outputs, *args)\n",
    "        return self.decoder(dec_X, dec_state)[0]"
   ]
  }
 ],
 "metadata": {
  "celltoolbar": "Slideshow",
  "language_info": {
   "name": "python"
  },
  "rise": {
   "autolaunch": true,
   "enable_chalkboard": true,
   "overlay": "<div class='my-top-right'><img height=80px src='http://d2l.ai/_static/logo-with-text.png'/></div><div class='my-top-left'></div>",
   "scroll": true
  }
 },
 "nbformat": 4,
 "nbformat_minor": 5
}