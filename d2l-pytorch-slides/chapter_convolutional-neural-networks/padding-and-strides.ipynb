{
 "cells": [
  {
   "cell_type": "markdown",
   "id": "2ff1a175",
   "metadata": {
    "slideshow": {
     "slide_type": "-"
    }
   },
   "source": [
    "# Padding and Stride\n",
    "\n"
   ]
  },
  {
   "cell_type": "code",
   "execution_count": 1,
   "id": "11574b7f",
   "metadata": {
    "execution": {
     "iopub.execute_input": "2023-02-10T04:44:23.252758Z",
     "iopub.status.busy": "2023-02-10T04:44:23.252435Z",
     "iopub.status.idle": "2023-02-10T04:44:24.681910Z",
     "shell.execute_reply": "2023-02-10T04:44:24.680025Z"
    },
    "origin_pos": 3,
    "tab": [
     "pytorch"
    ]
   },
   "outputs": [],
   "source": [
    "import torch\n",
    "from torch import nn"
   ]
  },
  {
   "cell_type": "markdown",
   "id": "c1c668c9",
   "metadata": {
    "slideshow": {
     "slide_type": "-"
    }
   },
   "source": [
    "Apply 1 pixel of padding on all sides"
   ]
  },
  {
   "cell_type": "code",
   "execution_count": 2,
   "id": "89e5043a",
   "metadata": {
    "execution": {
     "iopub.execute_input": "2023-02-10T04:44:24.691504Z",
     "iopub.status.busy": "2023-02-10T04:44:24.689609Z",
     "iopub.status.idle": "2023-02-10T04:44:24.737467Z",
     "shell.execute_reply": "2023-02-10T04:44:24.736492Z"
    },
    "origin_pos": 8,
    "tab": [
     "pytorch"
    ]
   },
   "outputs": [
    {
     "data": {
      "text/plain": [
       "torch.Size([8, 8])"
      ]
     },
     "execution_count": 2,
     "metadata": {},
     "output_type": "execute_result"
    }
   ],
   "source": [
    "def comp_conv2d(conv2d, X):\n",
    "    X = X.reshape((1, 1) + X.shape)\n",
    "    Y = conv2d(X)\n",
    "    return Y.reshape(Y.shape[2:])\n",
    "\n",
    "conv2d = nn.LazyConv2d(1, kernel_size=3, padding=1)\n",
    "X = torch.rand(size=(8, 8))\n",
    "comp_conv2d(conv2d, X).shape"
   ]
  },
  {
   "cell_type": "markdown",
   "id": "dcceaaaf",
   "metadata": {
    "slideshow": {
     "slide_type": "slide"
    }
   },
   "source": [
    "Setting different padding numbers for height and width"
   ]
  },
  {
   "cell_type": "code",
   "execution_count": 3,
   "id": "83910aa3",
   "metadata": {
    "execution": {
     "iopub.execute_input": "2023-02-10T04:44:24.742149Z",
     "iopub.status.busy": "2023-02-10T04:44:24.741266Z",
     "iopub.status.idle": "2023-02-10T04:44:24.765603Z",
     "shell.execute_reply": "2023-02-10T04:44:24.764542Z"
    },
    "origin_pos": 13,
    "tab": [
     "pytorch"
    ]
   },
   "outputs": [
    {
     "data": {
      "text/plain": [
       "torch.Size([8, 8])"
      ]
     },
     "execution_count": 3,
     "metadata": {},
     "output_type": "execute_result"
    }
   ],
   "source": [
    "conv2d = nn.LazyConv2d(1, kernel_size=(5, 3), padding=(2, 1))\n",
    "comp_conv2d(conv2d, X).shape"
   ]
  },
  {
   "cell_type": "markdown",
   "id": "7871d0bc",
   "metadata": {
    "slideshow": {
     "slide_type": "slide"
    }
   },
   "source": [
    "Set the strides on both the height and width to 2"
   ]
  },
  {
   "cell_type": "code",
   "execution_count": 4,
   "id": "061d2ea6",
   "metadata": {
    "execution": {
     "iopub.execute_input": "2023-02-10T04:44:24.769677Z",
     "iopub.status.busy": "2023-02-10T04:44:24.769255Z",
     "iopub.status.idle": "2023-02-10T04:44:24.792724Z",
     "shell.execute_reply": "2023-02-10T04:44:24.791800Z"
    },
    "origin_pos": 18,
    "tab": [
     "pytorch"
    ]
   },
   "outputs": [
    {
     "data": {
      "text/plain": [
       "torch.Size([4, 4])"
      ]
     },
     "execution_count": 4,
     "metadata": {},
     "output_type": "execute_result"
    }
   ],
   "source": [
    "conv2d = nn.LazyConv2d(1, kernel_size=3, padding=1, stride=2)\n",
    "comp_conv2d(conv2d, X).shape"
   ]
  },
  {
   "cell_type": "markdown",
   "id": "e687329b",
   "metadata": {
    "slideshow": {
     "slide_type": "-"
    }
   },
   "source": [
    "A slightly more complicated example"
   ]
  },
  {
   "cell_type": "code",
   "execution_count": 5,
   "id": "80ed2f23",
   "metadata": {
    "execution": {
     "iopub.execute_input": "2023-02-10T04:44:24.796918Z",
     "iopub.status.busy": "2023-02-10T04:44:24.796373Z",
     "iopub.status.idle": "2023-02-10T04:44:24.817470Z",
     "shell.execute_reply": "2023-02-10T04:44:24.816547Z"
    },
    "origin_pos": 23,
    "tab": [
     "pytorch"
    ]
   },
   "outputs": [
    {
     "data": {
      "text/plain": [
       "torch.Size([2, 2])"
      ]
     },
     "execution_count": 5,
     "metadata": {},
     "output_type": "execute_result"
    }
   ],
   "source": [
    "conv2d = nn.LazyConv2d(1, kernel_size=(3, 5), padding=(0, 1), stride=(3, 4))\n",
    "comp_conv2d(conv2d, X).shape"
   ]
  }
 ],
 "metadata": {
  "celltoolbar": "Slideshow",
  "language_info": {
   "name": "python"
  },
  "rise": {
   "autolaunch": true,
   "enable_chalkboard": true,
   "overlay": "<div class='my-top-right'><img height=80px src='http://d2l.ai/_static/logo-with-text.png'/></div><div class='my-top-left'></div>",
   "scroll": true
  }
 },
 "nbformat": 4,
 "nbformat_minor": 5
}