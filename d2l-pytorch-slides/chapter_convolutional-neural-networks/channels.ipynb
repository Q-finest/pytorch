{
 "cells": [
  {
   "cell_type": "markdown",
   "id": "f980499a",
   "metadata": {
    "slideshow": {
     "slide_type": "-"
    }
   },
   "source": [
    "# Multiple Input and Multiple Output Channels\n",
    "\n"
   ]
  },
  {
   "cell_type": "code",
   "execution_count": 1,
   "id": "8148b807",
   "metadata": {
    "execution": {
     "iopub.execute_input": "2023-02-10T05:17:48.083587Z",
     "iopub.status.busy": "2023-02-10T05:17:48.083159Z",
     "iopub.status.idle": "2023-02-10T05:17:51.040127Z",
     "shell.execute_reply": "2023-02-10T05:17:51.038880Z"
    },
    "origin_pos": 3,
    "tab": [
     "pytorch"
    ]
   },
   "outputs": [],
   "source": [
    "import torch\n",
    "from d2l import torch as d2l"
   ]
  },
  {
   "cell_type": "markdown",
   "id": "4fc69aa6",
   "metadata": {
    "slideshow": {
     "slide_type": "-"
    }
   },
   "source": [
    "Implement cross-correlation operations with multiple input channels"
   ]
  },
  {
   "cell_type": "code",
   "execution_count": 2,
   "id": "e36b9a71",
   "metadata": {
    "execution": {
     "iopub.execute_input": "2023-02-10T05:17:51.046802Z",
     "iopub.status.busy": "2023-02-10T05:17:51.044273Z",
     "iopub.status.idle": "2023-02-10T05:17:51.054460Z",
     "shell.execute_reply": "2023-02-10T05:17:51.052510Z"
    },
    "origin_pos": 7,
    "tab": [
     "pytorch"
    ]
   },
   "outputs": [],
   "source": [
    "def corr2d_multi_in(X, K):\n",
    "    return sum(d2l.corr2d(x, k) for x, k in zip(X, K))"
   ]
  },
  {
   "cell_type": "markdown",
   "id": "c1010dc5",
   "metadata": {
    "slideshow": {
     "slide_type": "-"
    }
   },
   "source": [
    "Validate the output"
   ]
  },
  {
   "cell_type": "code",
   "execution_count": 3,
   "id": "2e919fec",
   "metadata": {
    "execution": {
     "iopub.execute_input": "2023-02-10T05:17:51.059783Z",
     "iopub.status.busy": "2023-02-10T05:17:51.058154Z",
     "iopub.status.idle": "2023-02-10T05:17:51.190491Z",
     "shell.execute_reply": "2023-02-10T05:17:51.186759Z"
    },
    "origin_pos": 10,
    "tab": [
     "pytorch"
    ]
   },
   "outputs": [
    {
     "data": {
      "text/plain": [
       "tensor([[ 56.,  72.],\n",
       "        [104., 120.]])"
      ]
     },
     "execution_count": 3,
     "metadata": {},
     "output_type": "execute_result"
    }
   ],
   "source": [
    "X = torch.tensor([[[0.0, 1.0, 2.0], [3.0, 4.0, 5.0], [6.0, 7.0, 8.0]],\n",
    "               [[1.0, 2.0, 3.0], [4.0, 5.0, 6.0], [7.0, 8.0, 9.0]]])\n",
    "K = torch.tensor([[[0.0, 1.0], [2.0, 3.0]], [[1.0, 2.0], [3.0, 4.0]]])\n",
    "\n",
    "corr2d_multi_in(X, K)"
   ]
  },
  {
   "cell_type": "markdown",
   "id": "4996d60f",
   "metadata": {
    "slideshow": {
     "slide_type": "slide"
    }
   },
   "source": [
    "Calculate the output of multiple channels"
   ]
  },
  {
   "cell_type": "code",
   "execution_count": 5,
   "id": "26734f81",
   "metadata": {
    "execution": {
     "iopub.execute_input": "2023-02-10T05:17:51.202912Z",
     "iopub.status.busy": "2023-02-10T05:17:51.202584Z",
     "iopub.status.idle": "2023-02-10T05:17:51.214470Z",
     "shell.execute_reply": "2023-02-10T05:17:51.210949Z"
    },
    "origin_pos": 14,
    "tab": [
     "pytorch"
    ]
   },
   "outputs": [
    {
     "data": {
      "text/plain": [
       "torch.Size([3, 2, 2, 2])"
      ]
     },
     "execution_count": 5,
     "metadata": {},
     "output_type": "execute_result"
    }
   ],
   "source": [
    "def corr2d_multi_in_out(X, K):\n",
    "    return torch.stack([corr2d_multi_in(X, k) for k in K], 0)\n",
    "\n",
    "K = torch.stack((K, K + 1, K + 2), 0)\n",
    "K.shape"
   ]
  },
  {
   "cell_type": "code",
   "execution_count": 6,
   "id": "058691bd",
   "metadata": {
    "execution": {
     "iopub.execute_input": "2023-02-10T05:17:51.221682Z",
     "iopub.status.busy": "2023-02-10T05:17:51.217975Z",
     "iopub.status.idle": "2023-02-10T05:17:51.229609Z",
     "shell.execute_reply": "2023-02-10T05:17:51.228742Z"
    },
    "origin_pos": 16,
    "tab": [
     "pytorch"
    ]
   },
   "outputs": [
    {
     "data": {
      "text/plain": [
       "tensor([[[ 56.,  72.],\n",
       "         [104., 120.]],\n",
       "\n",
       "        [[ 76., 100.],\n",
       "         [148., 172.]],\n",
       "\n",
       "        [[ 96., 128.],\n",
       "         [192., 224.]]])"
      ]
     },
     "execution_count": 6,
     "metadata": {},
     "output_type": "execute_result"
    }
   ],
   "source": [
    "corr2d_multi_in_out(X, K)"
   ]
  },
  {
   "cell_type": "markdown",
   "id": "872f147a",
   "metadata": {
    "slideshow": {
     "slide_type": "slide"
    }
   },
   "source": [
    "$1 \\times 1$ convolution"
   ]
  },
  {
   "cell_type": "code",
   "execution_count": 8,
   "id": "a737b9f6",
   "metadata": {
    "execution": {
     "iopub.execute_input": "2023-02-10T05:17:51.246902Z",
     "iopub.status.busy": "2023-02-10T05:17:51.246245Z",
     "iopub.status.idle": "2023-02-10T05:17:51.260044Z",
     "shell.execute_reply": "2023-02-10T05:17:51.259173Z"
    },
    "origin_pos": 20,
    "tab": [
     "pytorch"
    ]
   },
   "outputs": [],
   "source": [
    "def corr2d_multi_in_out_1x1(X, K):\n",
    "    c_i, h, w = X.shape\n",
    "    c_o = K.shape[0]\n",
    "    X = X.reshape((c_i, h * w))\n",
    "    K = K.reshape((c_o, c_i))\n",
    "    Y = torch.matmul(K, X)\n",
    "    return Y.reshape((c_o, h, w))\n",
    "\n",
    "X = torch.normal(0, 1, (3, 3, 3))\n",
    "K = torch.normal(0, 1, (2, 3, 1, 1))\n",
    "Y1 = corr2d_multi_in_out_1x1(X, K)\n",
    "Y2 = corr2d_multi_in_out(X, K)\n",
    "assert float(torch.abs(Y1 - Y2).sum()) < 1e-6"
   ]
  }
 ],
 "metadata": {
  "celltoolbar": "Slideshow",
  "language_info": {
   "name": "python"
  },
  "rise": {
   "autolaunch": true,
   "enable_chalkboard": true,
   "overlay": "<div class='my-top-right'><img height=80px src='http://d2l.ai/_static/logo-with-text.png'/></div><div class='my-top-left'></div>",
   "scroll": true
  }
 },
 "nbformat": 4,
 "nbformat_minor": 5
}