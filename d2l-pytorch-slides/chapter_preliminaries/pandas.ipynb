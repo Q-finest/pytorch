{
 "cells": [
  {
   "cell_type": "markdown",
   "id": "574af3b5",
   "metadata": {
    "slideshow": {
     "slide_type": "-"
    }
   },
   "source": [
    "# Data Preprocessing\n",
    "\n",
    "Create a CSV file below"
   ]
  },
  {
   "cell_type": "code",
   "execution_count": 2,
   "id": "a9b95043",
   "metadata": {
    "execution": {
     "iopub.execute_input": "2023-02-10T05:22:52.934713Z",
     "iopub.status.busy": "2023-02-10T05:22:52.931350Z",
     "iopub.status.idle": "2023-02-10T05:22:53.395337Z",
     "shell.execute_reply": "2023-02-10T05:22:53.390925Z"
    },
    "origin_pos": 4,
    "tab": [
     "pytorch"
    ]
   },
   "outputs": [
    {
     "name": "stdout",
     "output_type": "stream",
     "text": [
      "   NumRooms RoofType   Price\n",
      "0       NaN      NaN  127500\n",
      "1       2.0      NaN  106000\n",
      "2       4.0    Slate  178100\n",
      "3       NaN      NaN  140000\n"
     ]
    }
   ],
   "source": [
    "import os\n",
    "\n",
    "os.makedirs(os.path.join('..', 'data'), exist_ok=True)\n",
    "data_file = os.path.join('..', 'data', 'house_tiny.csv')\n",
    "with open(data_file, 'w') as f:\n",
    "    f.write('''NumRooms,RoofType,Price\n",
    "NA,NA,127500\n",
    "2,NA,106000\n",
    "4,Slate,178100\n",
    "NA,NA,140000''')\n",
    "\n",
    "import pandas as pd\n",
    "\n",
    "data = pd.read_csv(data_file)\n",
    "print(data)"
   ]
  },
  {
   "cell_type": "markdown",
   "id": "a37f2a43",
   "metadata": {
    "slideshow": {
     "slide_type": "slide"
    }
   },
   "source": [
    "For categorical input fields, \n",
    "we can treat `NaN` as a category"
   ]
  },
  {
   "cell_type": "code",
   "execution_count": 3,
   "id": "78a09240",
   "metadata": {
    "execution": {
     "iopub.execute_input": "2023-02-10T05:22:53.402235Z",
     "iopub.status.busy": "2023-02-10T05:22:53.401643Z",
     "iopub.status.idle": "2023-02-10T05:22:53.414022Z",
     "shell.execute_reply": "2023-02-10T05:22:53.412882Z"
    },
    "origin_pos": 6,
    "tab": [
     "pytorch"
    ]
   },
   "outputs": [
    {
     "name": "stdout",
     "output_type": "stream",
     "text": [
      "   NumRooms  RoofType_Slate  RoofType_nan\n",
      "0       NaN               0             1\n",
      "1       2.0               0             1\n",
      "2       4.0               1             0\n",
      "3       NaN               0             1\n"
     ]
    }
   ],
   "source": [
    "inputs, targets = data.iloc[:, 0:2], data.iloc[:, 2]\n",
    "inputs = pd.get_dummies(inputs, dummy_na=True)\n",
    "print(inputs)"
   ]
  },
  {
   "cell_type": "markdown",
   "id": "9e760872",
   "metadata": {
    "slideshow": {
     "slide_type": "slide"
    }
   },
   "source": [
    "Replace the `NaN` entries with \n",
    "the mean value of the corresponding column"
   ]
  },
  {
   "cell_type": "code",
   "execution_count": 4,
   "id": "8f2b9699",
   "metadata": {
    "execution": {
     "iopub.execute_input": "2023-02-10T05:22:53.426733Z",
     "iopub.status.busy": "2023-02-10T05:22:53.422728Z",
     "iopub.status.idle": "2023-02-10T05:22:53.436414Z",
     "shell.execute_reply": "2023-02-10T05:22:53.435548Z"
    },
    "origin_pos": 8,
    "tab": [
     "pytorch"
    ]
   },
   "outputs": [
    {
     "name": "stdout",
     "output_type": "stream",
     "text": [
      "   NumRooms  RoofType_Slate  RoofType_nan\n",
      "0       3.0               0             1\n",
      "1       2.0               0             1\n",
      "2       4.0               1             0\n",
      "3       3.0               0             1\n"
     ]
    }
   ],
   "source": [
    "inputs = inputs.fillna(inputs.mean())\n",
    "print(inputs)"
   ]
  },
  {
   "cell_type": "markdown",
   "id": "fe309664",
   "metadata": {
    "slideshow": {
     "slide_type": "slide"
    }
   },
   "source": [
    "All the entries in `inputs` and `targets` are numerical,\n",
    "we can load them into a tensor"
   ]
  },
  {
   "cell_type": "code",
   "execution_count": 5,
   "id": "78c3b960",
   "metadata": {
    "execution": {
     "iopub.execute_input": "2023-02-10T05:22:53.441250Z",
     "iopub.status.busy": "2023-02-10T05:22:53.440900Z",
     "iopub.status.idle": "2023-02-10T05:22:55.288581Z",
     "shell.execute_reply": "2023-02-10T05:22:55.287415Z"
    },
    "origin_pos": 11,
    "tab": [
     "pytorch"
    ]
   },
   "outputs": [
    {
     "data": {
      "text/plain": [
       "(tensor([[3., 0., 1.],\n",
       "         [2., 0., 1.],\n",
       "         [4., 1., 0.],\n",
       "         [3., 0., 1.]], dtype=torch.float64),\n",
       " tensor([127500, 106000, 178100, 140000]))"
      ]
     },
     "execution_count": 5,
     "metadata": {},
     "output_type": "execute_result"
    }
   ],
   "source": [
    "import torch\n",
    "\n",
    "X, y = torch.tensor(inputs.values), torch.tensor(targets.values)\n",
    "X, y"
   ]
  }
 ],
 "metadata": {
  "celltoolbar": "Slideshow",
  "language_info": {
   "name": "python"
  },
  "rise": {
   "autolaunch": true,
   "enable_chalkboard": true,
   "overlay": "<div class='my-top-right'><img height=80px src='http://d2l.ai/_static/logo-with-text.png'/></div><div class='my-top-left'></div>",
   "scroll": true
  }
 },
 "nbformat": 4,
 "nbformat_minor": 5
}